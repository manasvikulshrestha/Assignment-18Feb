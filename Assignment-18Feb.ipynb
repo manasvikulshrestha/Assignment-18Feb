{
 "cells": [
  {
   "cell_type": "markdown",
   "id": "c5453076-86db-4150-9c9a-6b88edce2d75",
   "metadata": {},
   "source": [
    "Q1. What is an API? Give an example, where an API is used in real life. \n",
    "A1. An API is a communication interface that allows two separate software components to share data. An API operates as a bridge between internal and external software operations, allowing for a fluid interchange of data that frequently passes undetected by the end-user.\n",
    "Simply said, an API acts as a virtual middleman, transferring data from one interface, such as a mobile app, to another. APIs connect various sections of a software platform to guarantee that information is sent correctly. These connection points serve as an internal communication route, and a way for external tools to access the same data. As a result, APIs may be classified into two types:\n",
    "- Private APIs: \n",
    "A private API is only available to developers and users within a company. These APIs are often used to link internal team operations to remove silos and streamline communication.\n",
    "- Open APIs: \n",
    "On the other hand, open APIs allow third-party developers to quickly access and merge data from one tool to another. An open or public API saves time for developers by allowing them to link their platform with already existing tools, minimizing the need to construct new services.\n",
    "\n",
    "# Real-life example of API\n",
    "Twitter Bots\n",
    "An API example in action is the vast array of bots available on Twitter. Twitter bots are accounts that tweet (or retweet), follow, and send direct messages in response to software commands. There are several Twitter bots, but here are a handful of our favorites:\n",
    "TinyCareBot: Sends hourly alerts to drink water, stretch, get some fresh air, and do other activities.\n",
    "Grammar Police: It identifies typical grammatical errors produced by its followers.\n",
    "Netflix Bot: When new Netflix material is launched, it is announced on Twitter.\n",
    "The Twitter API powers all of these bots. Aside from allowing you to do simple operations on the network, such as Tweeting a certain phrase or following a user, the Twitter API may also notify bots when something specific occurs. For example, you may instruct the Twitter API to notify your bot anytime a new follower is added. Then, using the API, you can configure your bot to deliver a message to that follower."
   ]
  },
  {
   "cell_type": "markdown",
   "id": "70ecf99b-955e-45a5-9d45-a2e81c466e04",
   "metadata": {},
   "source": [
    "Q2. Give advantages and disadvantages of using API.  \n",
    "A2. \n",
    "# Advantages:\n",
    "- Increased Interoperability: \n",
    "API solutions enable different software systems to communicate with each other, regardless of their programming language or platform. This enhances the interoperability between systems, allowing for the exchange of data and functionality.\n",
    "- Improved Efficiency: \n",
    "API driven infrastructures enable developers to reuse code and functionality from existing software systems, saving time and reducing the amount of code that needs to be written from scratch.\n",
    "- Better User Experience: \n",
    "APIs can enable third-party developers to create applications that integrate with existing software systems, providing a better user experience and increased functionality.\n",
    "- Increased Flexibility: \n",
    "APIs provide developers with greater flexibility, enabling them to choose the best programming languages and frameworks for their needs.\n",
    "- New Revenue Streams: \n",
    "APIs can enable companies to create new revenue streams by providing third-party developers with access to their software systems.\n",
    "\n",
    "# Disadvantages:\n",
    "- Security Concerns: \n",
    "API infrastructures can be vulnerable to security breaches, such as SQL injection attacks and cross-site scripting (XSS) attacks, making it crucial to implement security measures to protect against these threats.\n",
    "- Complexity: \n",
    "APIs can be complex, requiring a significant amount of development effort to implement and maintain.\n",
    "- Compatibility Issues: \n",
    "APIs can have compatibility issues between different versions of the same software system or between different systems, which can lead to errors and system failures.\n",
    "- Dependency on Third-Party Developers: \n",
    "APIs rely on third-party developers to create applications that integrate with the software system. This can create dependencies that are outside of the control of the company that owns the software system.\n",
    "- Governance and Management: \n",
    "APIs require proper governance and management to ensure they are being used correctly and consistently across different applications and systems."
   ]
  },
  {
   "cell_type": "markdown",
   "id": "c16e0645-237a-4577-b5ce-62b430108089",
   "metadata": {},
   "source": [
    "Q3. What is a Web API? Differentiate between API and Web API. \n",
    "A3. A Web API is a developer's dream.\n",
    "- It can extend the functionality of the browser\n",
    "- It can greatly simplify complex functions\n",
    "- It can provide easy syntax to complex code\n",
    "API stands for Application Programming Interface.\n",
    "A Web API is an application programming interface for the Web.\n",
    "Though APIs and web services can both facilitate data transfers between applications over the internet, they are not the same, and the terms should not be used interchangeably in every case. The key distinction is that web services are a type of API: All web services are APIs, but not all PIs are web services.\n",
    "'API' is the broader category because, by definition, it refers to any software component that acts as an intermediary between two otherwise disconnected applications. \n",
    "Since web services are designed to share data with other disconnected applications, this qualifies them as APIs. However, a web service is just a way you can implement an API. \n",
    "- Communication Over a Network\n",
    "A significant difference between web services and API is that they communicate dissimilarly. To communicate, web services use a system connecting two or more software applications on different machines called a network. Usually, the network in question is the internet. \n",
    "However, APIs aren't required to utilize networks. Of course, they can, but they may also function offline. For example, two apps on the same computer may integrate via APIs. You can still transfer data without a network. \n",
    "- Limited Accessibility\n",
    "APIs can be divided into types based on their scope of users. Some APIs allow developers to mess around with them with limited oversight, while others are restricted to paid clients. On the contrary, web services are only accessible to approved partners. This provides web service owners greater control over who accesses data, how they use the service, and its functions.\n",
    "- Architecture and Format\n",
    "An API may adhere to various designs, including REST, SOAP, XML-RPC, or JSON-RPC. On the other hand, web services typically stick to SOAP because it tends to be more secure and better at preserving data integrity than others. \n",
    "The main trade-off is that SOAP is more strict in its requirements than RESTful design, making it more code-heavy and process-intensive. That's why a web service may incorporate principles from REST or XML-RPC. Still, it's primarily agreed that SOAP is the go-to protocol.\n",
    "Web services also tend to use the XML format to encode data, while APIs generally may use any language to store data. For instance, the language is JavaScript Object Notation (JSON), a more lightweight alternative."
   ]
  },
  {
   "cell_type": "markdown",
   "id": "e3fee54b-e887-4154-85e6-ba2c04ddfc53",
   "metadata": {},
   "source": [
    "Q4. Explain REST and SOAP Architecture. Mention shortcomings of SOAP. \n",
    "A4. SOAP and REST are two internet data exchange mechanisms. For example, imagine that your internal accounts system shares data with your customer's accounting system to automate invoicing tasks. The two applications share data by using an API that defines communication rules. SOAP and REST are two different approaches to API design. The SOAP approach is highly structured and uses XML data format. REST is more flexible and allows applications to exchange data in multiple formats.\n",
    "- SOAP APIs\n",
    "  1. SOAP is a protocol that defines rigid communication rules. It has several associated standards that control every aspect      of the data exchange. For example, here are some standards SOAP uses:\n",
    "  2. Web Services Security (WS-Security) specifies security measures like using unique identifiers called tokens\n",
    "  3. Web Services Addressing (WS-Addressing) requires including routing information as metadata\n",
    "  4. WS-ReliableMessaging standardizes error handling in SOAP messaging\n",
    "  5. Web Services Description Language (WSDL) describes the scope and function of SOAP web services\n",
    "  6. When you send a request to a SOAP API, you must wrap your HTTP request in a SOAP envelope. This is a data structure that      modifies the underlying HTTP content with SOAP request requirements. Due to the envelope, you can also send requests to        SOAP web services with other transport protocols, like TCP or Internet Control Message Protocol (ICMP). However, SOAP          APIs and SOAP web services always return XML documents in their responses.\n",
    "\n",
    "- REST APIs\n",
    "  1. REST is a software architectural style that imposes six conditions on how an API should work. These are the six  principles REST APIs follow:\n",
    "  2. Client-server architecture. The sender and receiver are independent of each other regarding technology, platforming, programming language, and so on.\n",
    "  3. Layered. The server can have several intermediaries that work together to complete client requests, but they are invisible to the client.\n",
    "  4. Uniform interface. The API returns data in a standard format that is complete and fully useable.\n",
    "  5. Stateless. The API completes every new request independently of previous requests.\n",
    "  6. Cacheable. All API responses are cacheable.\n",
    "  7. Code on demand. The API response can include a code snippet if required.\n",
    "  \n",
    "You send REST requests using HTTP verbs like GET and POST. Rest API responses are typically in JSON but can also be of a different data format.\n",
    "\n",
    "# Shortcomings of SOAP\n",
    "While you can use SOAP for public or private APIs, it's best suited for private enterprise applications. This is because SOAP has several drawbacks for public APIs, such as:\n",
    "- Bandwidth requirement: \n",
    "XML documents are large and require more bandwidth, making it slow to process tags.\n",
    "Difficult to learn: Since it’s a protocol, SOAP API servers require an understanding of all the protocols you might use and possible restrictions.\n",
    "- No flexibility: \n",
    "SOAP is much more strict than REST and requires additional work to ensure messages are accurate. Therefore, updating requests and responses can be tedious and time-consuming."
   ]
  },
  {
   "cell_type": "markdown",
   "id": "45d30603-2d4c-4bf1-9127-0268e778937e",
   "metadata": {},
   "source": [
    "Q5. Differentiate between REST and SOAP. \n",
    "A5. Differences between SOAP and REST API\n",
    "- Message format\n",
    "- Data encoding\n",
    "- Protocol\n",
    "- Security\n",
    "- Architecture\n",
    "\n",
    "# SOAP API\n",
    "- Relies on SOAP (Simple Object Access Protocol)\t\n",
    "- Transports data in standard XML format.\t\n",
    "- Because it is XML based and relies on SOAP, it works with WSDL\tIt works with GET, POST, PUT, DELETE\n",
    "Works over HTTP, HTTPS, SMTP, XMPP\tWorks over HTTP and HTTPS\n",
    "Highly structured/typed\tLess structured -> less bulky data\n",
    "Designed with large enterprise applications in mind\tDesigned with mobile devices in mind\n",
    "# REST API\n",
    "- Relies on REST (Representational State Transfer) architecture using HTTP.\n",
    "- Generally transports data in JSON. It is based on URI. Because REST follows stateless model, REST does not enforces message format as XML or JSON etc."
   ]
  }
 ],
 "metadata": {
  "kernelspec": {
   "display_name": "Python 3 (ipykernel)",
   "language": "python",
   "name": "python3"
  },
  "language_info": {
   "codemirror_mode": {
    "name": "ipython",
    "version": 3
   },
   "file_extension": ".py",
   "mimetype": "text/x-python",
   "name": "python",
   "nbconvert_exporter": "python",
   "pygments_lexer": "ipython3",
   "version": "3.10.8"
  }
 },
 "nbformat": 4,
 "nbformat_minor": 5
}
